{
 "cells": [
  {
   "cell_type": "code",
   "execution_count": 13,
   "metadata": {},
   "outputs": [],
   "source": [
    "import json\n",
    "import numpy as np"
   ]
  },
  {
   "cell_type": "code",
   "execution_count": 14,
   "metadata": {},
   "outputs": [],
   "source": [
    "json_file = open(\"example-2layer.json\", \"r\") # open json file in reading mode\n",
    "data = json.load(json_file) # load json file in datastructure with json"
   ]
  },
  {
   "cell_type": "code",
   "execution_count": 15,
   "metadata": {},
   "outputs": [],
   "source": [
    "matrices = [] # empty list for all matrices\n",
    "for layer in data: # iterate over layers in json file\n",
    "    \n",
    "    matrix = np.zeros([int(data[layer][\"size_in\"]), int(data[layer][\"size_out\"])], dtype = float) # create empty matrix\n",
    "\n",
    "    for index, node in enumerate(data[layer][\"weights\"]): # iterate over nodes in layer\n",
    "\n",
    "        for weight in data[layer][\"weights\"][node]: # iterate over weights in node\n",
    "            \n",
    "            matrix[int(node) - 1][int(weight) - 1] = float(data[layer][\"weights\"][node][weight])\n",
    "            # add weight to correct place in matrix\n",
    "            \n",
    "    matrices.append(matrix) # add matrix to all matrices"
   ]
  },
  {
   "cell_type": "code",
   "execution_count": 16,
   "metadata": {},
   "outputs": [
    {
     "name": "stdout",
     "output_type": "stream",
     "text": [
      "Matrix 1:\n",
      "[[ 0.5  0.2  0.   0.1]\n",
      " [ 0.2 -0.5  0.2  0.8]\n",
      " [ 0.  -0.1  0.   0.3]\n",
      " [ 0.   0.9  0.1  0. ]\n",
      " [-0.2 -0.8 -0.1 -0.7]]\n",
      "\n",
      "[[ 0.5 -0.3  0.2  0.5]]\n",
      "Matrix 2:\n",
      "[[ 0.5  0.2]\n",
      " [ 0.2 -0.5]\n",
      " [-0.1  0.3]\n",
      " [ 0.9  0.1]]\n",
      "\n",
      "[[0.62 0.36]]\n",
      "Last output values:\n",
      " [[0.62 0.36]]\n"
     ]
    }
   ],
   "source": [
    "for layer, matrix in enumerate(matrices): # iterate over matrices\n",
    "    print(\"Matrix \"+str(layer + 1)+\":\\n\"+str(matrix)+'\\n') # print current matrix\n",
    "    \n",
    "    if layer == 0:\n",
    "        matrix = [[1,1,1,1,1]]#np.matrix([1] * int(data[\"layer1\"][\"size_in\"])) # input matrix for the neural network\n",
    "        matrixvar = matrices[layer]\n",
    "    else:\n",
    "        matrix = matrix_dot_result\n",
    "        matrixvar = matrices[layer]\n",
    "        \n",
    "    if len(matrix[0]) == len(matrixvar):\n",
    "        matrix_dot_result = np.zeros([len(matrix), len(matrixvar[0])], dtype = float) # create new empty matrix\n",
    "    else:\n",
    "        print(\"dot product not possible\")\n",
    "    \n",
    "    for irow, row in enumerate(matrix): # iterate over rows in matrix\n",
    "        \n",
    "        for i in range(0, len(matrixvar[0])): # iterate over number of columns in matrixvar\n",
    "            sum = 0\n",
    "        \n",
    "            for iweight, weight in enumerate(row): # iterate over weights in row\n",
    "                sum += matrix[irow][iweight] * matrixvar[iweight][i] # add sum of muliplied weights to variable sum \n",
    "            \n",
    "            matrix_dot_result[irow][i] = sum # add sum to correct place in newmatrix\n",
    "\n",
    "    print(matrix_dot_result)\n",
    "    \n",
    "print(\"Last output values:\\n\", matrix_dot_result) # print last matrix"
   ]
  },
  {
   "cell_type": "code",
   "execution_count": null,
   "metadata": {},
   "outputs": [],
   "source": [
    "[[ 0.38  0.01]\n",
    " [ 0.7   0.43]\n",
    " [ 0.25  0.08]\n",
    " [ 0.17 -0.42]\n",
    " [-0.88  0.26]]\n",
    "\n",
    "Dit is de output matrix met dimensie 5x2, voor multiplicatie Matrix laag 1 (5x4) en 2 (4x2)."
   ]
  }
 ],
 "metadata": {
  "kernelspec": {
   "display_name": "Python 3",
   "language": "python",
   "name": "python3"
  },
  "language_info": {
   "codemirror_mode": {
    "name": "ipython",
    "version": 3
   },
   "file_extension": ".py",
   "mimetype": "text/x-python",
   "name": "python",
   "nbconvert_exporter": "python",
   "pygments_lexer": "ipython3",
   "version": "3.7.1"
  }
 },
 "nbformat": 4,
 "nbformat_minor": 2
}
