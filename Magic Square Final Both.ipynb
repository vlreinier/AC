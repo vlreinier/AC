{
 "cells": [
  {
   "cell_type": "code",
   "execution_count": 155,
   "metadata": {},
   "outputs": [],
   "source": [
    "from sympy import * # wordt gebruikt voor reduced row echelon form\n",
    "import numpy as np # wordt gebruikt voor matrix inversie"
   ]
  },
  {
   "cell_type": "markdown",
   "metadata": {},
   "source": [
    "Ik zal eerst een uitleg op 'papier' doen zodat de code niet onoverzichtelijk wordt. Ik heb het oplossen van het magisch vierkant op 2 manieren uitgewerkt. Met de Reduced Row Echelon Form en met matrix inversie en multiplicatie.\n",
    "Ik zal nu in stappen uitwerken hoe ik tot de resultaten ben gekomen:\n",
    "\n",
    "De eis van het magisch vierkant is dat de som van alle horizontale, verticale en diagonale getallen gelijk is.\n",
    "Aan de hand van het 3x3 vierkant kunnen er dan 8 vergelijkingen worden opgesteld. Dit zijn de 8 vergelijkingen:<br>\n",
    "\n",
    "a + b + c = x of __a + b + c - x = 0__ <br>\n",
    "d + e + f = x of __d + e + f - x = 0__<br>\n",
    "g + h + i = x of __g + h + i - x = 0__<br>\n",
    "a + d + g = x of __a + d + g - x = 0__<br>\n",
    "b + e + h = x of __b + e + h - x = 0__<br>\n",
    "c + f + i = x of __c + f + i - x = 0__<br>\n",
    "a + e + i = x of __a + e + i - x = 0__<br>\n",
    "c + e + g = x of __c + e + g - x = 0__<br>\n",
    "\n",
    "\n",
    "Deze vergelijkingen leggen de basis voor het oplossen en maken van een magisch vierkant. We hebben 3 van de 9 getallen gegeven. De andere 6 getallen moeten d.m.v. lineaire vergelijkingen op te lossen zijn. En dat zijn ze ook. Het probleem is alleen dat het uitschrijven en oplossen van deze vergelijkingen veel tijd kost, en elke keer weer anders is. Erg slecht in code te verwerken dus. Daarom had ik als eerst gekozen voor de rref en later voor de matrix inversie.\n",
    "\n",
    "__RREF (Reduced Row Echelon Form) :__<br>\n",
    "Door deze vergelijkingen in een matrix te plaatsen krijgen we de volgende a$\\vec{x}$ = $\\vec{b}$ vorm:\n",
    "\n",
    "\\begin{equation*}\n",
    "\\begin{bmatrix}\n",
    "{1} & {1} & {1} & {0} & {0} & {0} & {0} & {0} & {0}\\\\\n",
    "{0} & {1} & {1} & {1} & {0} & {0} & {0} & {0} & {0}\\\\\n",
    "{0} & {0} & {1} & {1} & {1} & {0} & {0} & {0} & {0}\\\\\n",
    "{1} & {0} & {0} & {1} & {0} & {0} & {1} & {0} & {0}\\\\\n",
    "{0} & {1} & {0} & {0} & {1} & {0} & {0} & {1} & {0}\\\\\n",
    "{0} & {0} & {1} & {0} & {0} & {1} & {0} & {0} & {1}\\\\\n",
    "{1} & {0} & {0} & {0} & {1} & {0} & {0} & {0} & {1}\\\\\n",
    "{0} & {0} & {1} & {0} & {1} & {0} & {1} & {0} & {0}\n",
    "\\end{bmatrix}\n",
    "\\begin{bmatrix}\n",
    "{a}\\\\\n",
    "{b}\\\\\n",
    "{c}\\\\\n",
    "{d}\\\\\n",
    "{e}\\\\\n",
    "{f}\\\\\n",
    "{g}\\\\\n",
    "{h}\\\\\n",
    "{i}\n",
    "\\end{bmatrix}\n",
    ".=. \n",
    "\\begin{bmatrix}\n",
    "{x}\\\\\n",
    "{x}\\\\\n",
    "{x}\\\\\n",
    "{x}\\\\\n",
    "{x}\\\\\n",
    "{x}\\\\\n",
    "{x}\\\\\n",
    "{x}\\\\\n",
    "{x}\n",
    "\\end{bmatrix}\n",
    "\\end{equation*}\n",
    "\n",
    "__Matrix Inversion:__<br>"
   ]
  },
  {
   "cell_type": "code",
   "execution_count": 156,
   "metadata": {},
   "outputs": [],
   "source": [
    "# dict om bekende getallen op te geven en onbekende getallen met waarde None\n",
    "# hier worden ook de resultaten ingelezen en weer uitgelezen om te printen\n",
    "square = {'a':5, 'b':None, 'c':None,\n",
    "          'd':None, 'e':None,  'f':4,\n",
    "          'g':None, 'h':None,  'i':6,}\n",
    "\n",
    "# dit is een standaard matrix gebaseerd op de 8 vergelijkingen van het magisch vierkant.\n",
    "matrix=[['a', 'b', 'c', 0, 0, 0, 0, 0, 0, -1, 0], # a + b + c - x = 0\n",
    "        [0, 0, 0, 'd', 'e', 'f', 0, 0, 0, -1, 0], # d + e + f - x = 0\n",
    "        [0, 0, 0, 0, 0, 0, 'g', 'h', 'i', -1, 0], # g + h + i - x = 0\n",
    "        ['a', 0, 0, 'd', 0, 0, 'g', 0, 0, -1, 0], # a + d + g - x = 0\n",
    "        [0, 'b', 0, 0, 'e', 0, 0, 'h', 0, -1, 0], # b + e + h - x = 0\n",
    "        [0, 0, 'c', 0, 0, 'f', 0, 0, 'i', -1, 0], # c + f + i - x = 0\n",
    "        ['a', 0, 0, 0, 'e', 0, 0, 0, 'i', -1, 0], # a + e + i - x = 0\n",
    "        [0, 0, 'c', 0, 'e', 0, 'g', 0, 0, -1, 0]] # c + e + g - x = 0"
   ]
  },
  {
   "cell_type": "markdown",
   "metadata": {},
   "source": [
    "__RREF (Reduced Row Echelon Form) :__<br>"
   ]
  },
  {
   "cell_type": "code",
   "execution_count": 157,
   "metadata": {},
   "outputs": [],
   "source": [
    "# bekende getallen aftrekken van laatste getal van huidige row en dit getal op 0 zetten in huidige row matrix\n",
    "# overige onbekende getallen met waarde None op 1 zetten in matrix\n",
    "\n",
    "for row in matrix:\n",
    "    for index, value in enumerate(row):\n",
    "        if value in square:\n",
    "            if square[value] == None:\n",
    "                row[index] = 1\n",
    "            else:\n",
    "                row[-1] = row[-1] - square[value]\n",
    "                row[index] = 0"
   ]
  },
  {
   "cell_type": "code",
   "execution_count": 158,
   "metadata": {},
   "outputs": [],
   "source": [
    "# echelon_matrix omzetten naar Matrix type en reduced row echelon form toepassen\n",
    "echelon_matrix = Matrix(matrix)\n",
    "reduced_echelon_matrix = echelon_matrix.rref()[0]"
   ]
  },
  {
   "cell_type": "code",
   "execution_count": 159,
   "metadata": {},
   "outputs": [],
   "source": [
    "# resultaten dot product laden in dict echelon_square\n",
    "count = 0\n",
    "for value in square:\n",
    "    if square[value] == None:\n",
    "        square[value] = reduced_echelon_matrix.row(count)[-1]\n",
    "        count += 1"
   ]
  },
  {
   "cell_type": "code",
   "execution_count": 160,
   "metadata": {},
   "outputs": [
    {
     "name": "stdout",
     "output_type": "stream",
     "text": [
      "Met de gegeven getallen is geen magisch vierkant met gehele getallen hoger dan 0 te maken\n",
      "\n",
      "5.0   5.0   6.5   \n",
      "\n",
      "7.0   5.5   4.0   \n",
      "\n",
      "4.5   6.0   6.0   \n",
      "\n",
      "\n",
      "Som is: 16.5\n"
     ]
    }
   ],
   "source": [
    "# resultaten printen uit dict echelon_square\n",
    "cube = \"\"\n",
    "count = 0\n",
    "integer = True\n",
    "for value in square:\n",
    "    if str(float(square[value])).split('.')[1][0] != '0' or len(str(float(square[value])).split('.')[1]) > 1:\n",
    "        integer = False\n",
    "    count += 1\n",
    "    cube += str(float(square[value])) + \"   \"\n",
    "    if count == 3:\n",
    "        cube += '\\n\\n'\n",
    "        count = 0\n",
    "        \n",
    "if not integer:\n",
    "    print(\"Met de gegeven getallen is geen magisch vierkant met gehele getallen hoger dan 0 te maken\\n\")\n",
    "\n",
    "print(cube)\n",
    "print('Som is:', float(square['a'] + square['b'] + square['c']))"
   ]
  },
  {
   "cell_type": "markdown",
   "metadata": {},
   "source": [
    "__Matrix Inversion:__"
   ]
  },
  {
   "cell_type": "code",
   "execution_count": 161,
   "metadata": {},
   "outputs": [],
   "source": [
    "# dict om bekende getallen op te geven en onbekende getallen met waarde None\n",
    "# hier worden ook de resultaten ingelezen en weer uitgelezen om te printen\n",
    "square = {'a':5, 'b':None, 'c':None,\n",
    "          'd':None, 'e':None,  'f':4,\n",
    "          'g':None, 'h':None,  'i':6,}\n",
    "\n",
    "# dit is een standaard matrix gebaseerd op de 8 vergelijkingen van het magisch vierkant.\n",
    "matrix=[['a', 'b', 'c', 0, 0, 0, 0, 0, 0, -1], # a + b + c - x = 0\n",
    "        [0, 0, 0, 'd', 'e', 'f', 0, 0, 0, -1], # d + e + f - x = 0\n",
    "        [0, 0, 0, 0, 0, 0, 'g', 'h', 'i', -1], # g + h + i - x = 0\n",
    "        ['a', 0, 0, 'd', 0, 0, 'g', 0, 0, -1], # a + d + g - x = 0\n",
    "        [0, 'b', 0, 0, 'e', 0, 0, 'h', 0, -1], # b + e + h - x = 0\n",
    "        [0, 0, 'c', 0, 0, 'f', 0, 0, 'i', -1], # c + f + i - x = 0\n",
    "        ['a', 0, 0, 0, 'e', 0, 0, 0, 'i', -1], # a + e + i - x = 0\n",
    "        [0, 0, 'c', 0, 'e', 0, 'g', 0, 0, -1]] # c + e + g - x = 0"
   ]
  },
  {
   "cell_type": "code",
   "execution_count": 162,
   "metadata": {},
   "outputs": [],
   "source": [
    "# aanmaken resultaten vector (matrix) met lengte matrix\n",
    "# bekende getallen aftrekken van resultaten vector en op 0 zetten in matrix\n",
    "# overige onbekende getallen op 1 zetten in matrix, hetzelfde idee als bij de rref methode.\n",
    "vector = np.zeros([len(matrix), 1], dtype=float)\n",
    "for count, row in enumerate(matrix):\n",
    "    for index, value in enumerate(row):\n",
    "        if value in square:\n",
    "            if square[value] == None:\n",
    "                row[index] = 1\n",
    "            else:\n",
    "                vector[count][0] -= square[value]\n",
    "                row[index] = 0"
   ]
  },
  {
   "cell_type": "code",
   "execution_count": 163,
   "metadata": {},
   "outputs": [],
   "source": [
    "# omzetten lists in lists naar een numpy matrix en inversie matrix opslaan in var inversed matrix\n",
    "# daarna matrix multiplicatie uitvoeren voor inversed matrix met vector\n",
    "inversed_matrix = np.asmatrix(matrix, dtype=int).I\n",
    "dot_product = np.dot(inversed_matrix, vector)"
   ]
  },
  {
   "cell_type": "code",
   "execution_count": 164,
   "metadata": {},
   "outputs": [],
   "source": [
    "# resultaten dot product laden in dict inversie_square\n",
    "count = 0\n",
    "for value in square:\n",
    "    if square[value] == None:\n",
    "        square[value] = dot_product[count, 0]\n",
    "    count+=1"
   ]
  },
  {
   "cell_type": "code",
   "execution_count": 165,
   "metadata": {},
   "outputs": [
    {
     "name": "stdout",
     "output_type": "stream",
     "text": [
      "Met de gegeven getallen is geen magisch vierkant met gehele getallen hoger dan 0 te maken\n",
      "\n",
      "5.0   5.0   6.5   \n",
      "\n",
      "7.0   5.5   4.0   \n",
      "\n",
      "4.5   6.0   6.0   \n",
      "\n",
      "\n",
      "Som is: 16.5\n"
     ]
    }
   ],
   "source": [
    "# resultaten printen uit dict inversie_square\n",
    "cube = \"\"\n",
    "count = 0\n",
    "integer = True\n",
    "for value in square:\n",
    "    if str(float(square[value])).split('.')[1][0] != '0' or len(str(float(square[value])).split('.')[1]) > 1:\n",
    "        integer = False\n",
    "    count += 1\n",
    "    cube += str(round(float(square[value]),2)) + \"   \"\n",
    "    if count == 3:\n",
    "        cube += '\\n\\n'\n",
    "        count = 0\n",
    "        \n",
    "if not integer:\n",
    "    print(\"Met de gegeven getallen is geen magisch vierkant met gehele getallen hoger dan 0 te maken\\n\")\n",
    "print(cube)\n",
    "print('Som is:', 3 * round(float(square['e']),2))"
   ]
  }
 ],
 "metadata": {
  "kernelspec": {
   "display_name": "Python 3",
   "language": "python",
   "name": "python3"
  },
  "language_info": {
   "codemirror_mode": {
    "name": "ipython",
    "version": 3
   },
   "file_extension": ".py",
   "mimetype": "text/x-python",
   "name": "python",
   "nbconvert_exporter": "python",
   "pygments_lexer": "ipython3",
   "version": "3.7.1"
  }
 },
 "nbformat": 4,
 "nbformat_minor": 2
}
