{
 "cells": [
  {
   "cell_type": "code",
   "execution_count": 186,
   "metadata": {},
   "outputs": [],
   "source": [
    "import json\n",
    "import numpy as np"
   ]
  },
  {
   "cell_type": "markdown",
   "metadata": {},
   "source": [
    "__Open JSON__"
   ]
  },
  {
   "cell_type": "code",
   "execution_count": 187,
   "metadata": {},
   "outputs": [],
   "source": [
    "json_file = open(\"example-2layer.json\", \"r\") # open json file in reading mode\n",
    "data = json.load(json_file) # load json file in datastructure with json"
   ]
  },
  {
   "cell_type": "markdown",
   "metadata": {},
   "source": [
    "__Save weights to matrices__"
   ]
  },
  {
   "cell_type": "code",
   "execution_count": 188,
   "metadata": {},
   "outputs": [],
   "source": [
    "matrices = [] # empty list for all matrices\n",
    "for layer in data: # iterate over layers in json file\n",
    "    \n",
    "    matrix = np.zeros([int(data[layer][\"size_out\"]), int(data[layer][\"size_in\"])], dtype = float) # create empty matrix\n",
    "\n",
    "    for index, node in enumerate(data[layer][\"weights\"]): # iterate over nodes in layer\n",
    "\n",
    "        for weight in data[layer][\"weights\"][node]: # iterate over weights in node\n",
    "            \n",
    "            matrix[int(weight) - 1][int(node) - 1] = float(data[layer][\"weights\"][node][weight])\n",
    "            # add weight to correct place in matrix\n",
    "            \n",
    "    matrices.append(matrix) # add matrix to all matrices"
   ]
  },
  {
   "cell_type": "code",
   "execution_count": 189,
   "metadata": {},
   "outputs": [],
   "source": [
    "matrixinput = np.matrix([[1]] * int(data[\"layer1\"][\"size_in\"])) # input matrix for the neural network\n",
    "matrices.reverse() # reverse matrices to do L0 * L1 * L2... instead of L2 * L1 * L0\n",
    "new_matrix = matrices[0] # set first starting matrix to be multiplied with"
   ]
  },
  {
   "cell_type": "markdown",
   "metadata": {},
   "source": [
    "__Matrix math__"
   ]
  },
  {
   "cell_type": "code",
   "execution_count": 190,
   "metadata": {},
   "outputs": [
    {
     "name": "stdout",
     "output_type": "stream",
     "text": [
      "Matrix 1:\n",
      "[[ 0.5  0.2 -0.1  0.9]\n",
      " [ 0.2 -0.5  0.3  0.1]]\n",
      "\n",
      "Matrix 2:\n",
      "[[ 0.5  0.2  0.   0.  -0.2]\n",
      " [ 0.2 -0.5 -0.1  0.9 -0.8]\n",
      " [ 0.   0.2  0.   0.1 -0.1]\n",
      " [ 0.1  0.8  0.3  0.  -0.7]]\n",
      "\n",
      "Output values:\n",
      " [[0.62]\n",
      " [0.36]]\n"
     ]
    }
   ],
   "source": [
    "for layer, matrix in enumerate(matrices): # iterate over matrices\n",
    "    print(\"Matrix \"+str(layer + 1)+\":\\n\"+str(matrix)+'\\n') # print matrix\n",
    "     \n",
    "    if len(matrices) == 1: # if only 1 matrix available, multiply this matrix with input vector\n",
    "        matrix2 = matrixinput\n",
    "    elif layer + 1 == len(matrices): # if all matrices are multiplied, multiply last product with input vector\n",
    "        matrix = new_matrix\n",
    "        matrix2 = matrixinput\n",
    "    else: # else multiply all matrices with each other starting with new_matrix as matrices[0]\n",
    "        matrix = new_matrix\n",
    "        matrix2 = matrices[layer + 1]\n",
    "\n",
    "    new_matrix = np.zeros([len(matrix), len(matrix2[0])], dtype = float) # create new empty matrix\n",
    "    \n",
    "    for irow, row in enumerate(matrix): # iterate over rows in matrix\n",
    "        \n",
    "        for i in range(0, len(matrix2[0])): # iterate over number of columns in matrixvar\n",
    "            som = 0\n",
    "        \n",
    "            for iweight, weight in enumerate(row): # iterate over weights in row\n",
    "                som += matrix[irow][iweight] * matrix2[iweight][i] # add sum of muliplied weights to variable sum \n",
    "            \n",
    "            new_matrix[irow][i] = som # add sum to correct place in newmatrix\n",
    "    \n",
    "print(\"Output values:\\n\", new_matrix) # print output"
   ]
  }
 ],
 "metadata": {
  "kernelspec": {
   "display_name": "Python 3",
   "language": "python",
   "name": "python3"
  },
  "language_info": {
   "codemirror_mode": {
    "name": "ipython",
    "version": 3
   },
   "file_extension": ".py",
   "mimetype": "text/x-python",
   "name": "python",
   "nbconvert_exporter": "python",
   "pygments_lexer": "ipython3",
   "version": "3.7.1"
  }
 },
 "nbformat": 4,
 "nbformat_minor": 2
}
