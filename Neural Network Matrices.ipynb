{
 "cells": [
  {
   "cell_type": "code",
   "execution_count": 86,
   "metadata": {},
   "outputs": [],
   "source": [
    "import json # only use json to easily open json file"
   ]
  },
  {
   "cell_type": "markdown",
   "metadata": {},
   "source": [
    "Eigen geschreven functie om dot product (matrix multiplicatie) te berekenen voor matrices. De functie werkt met standaard matrices van lijsten, en niet met numpy arrays of matrices."
   ]
  },
  {
   "cell_type": "code",
   "execution_count": 87,
   "metadata": {},
   "outputs": [],
   "source": [
    "# Function to perform matrix multiplication:\n",
    "def dot_product(matrix1, matrix2):\n",
    "    matrix1_rows = len(matrix1)\n",
    "    matrix1_cols = len(matrix1[0])\n",
    "    matrix2_rows = len(matrix2)\n",
    "    matrix2_cols = len(matrix2[0])\n",
    "    \n",
    "    # if columns of first are not equal to rows of second, matrix multiplication is not possible\n",
    "    if matrix1_cols != matrix2_rows: \n",
    "        raise Exception(\"Matrix multiplication is not possible because \"+ str(matrix1_cols) +' != '+str(matrix2_rows))\n",
    "    \n",
    "    # create new empty productmatrix with size; rows of first and columns of second\n",
    "    productmatrix = [[0 for row in range(matrix2_cols)] for col in range(matrix1_rows)]\n",
    "    \n",
    "    for i in range(matrix1_rows):\n",
    "        for j in range(matrix2_cols):\n",
    "            for h in range(matrix1_cols):\n",
    "                productmatrix[i][j] += matrix1[i][h] * matrix2[h][j]\n",
    "            \n",
    "    return productmatrix"
   ]
  },
  {
   "cell_type": "markdown",
   "metadata": {},
   "source": [
    "Om de gewichten uit de bestanden te lezen, is onderstaande functie geschreven. De functie is herbruikbaar voor oneindig aantal lagen. De functie leest de gewichten per laag uit het bestand en maakt van iedere laag een matrix met bijbehorende gewichten."
   ]
  },
  {
   "cell_type": "code",
   "execution_count": 88,
   "metadata": {},
   "outputs": [],
   "source": [
    "def weights_to_matrices(data):\n",
    "    matrices = [] # empty list for all matrices\n",
    "    \n",
    "    for layer in data: # iterate over layers in json file\n",
    "\n",
    "        matrix = [[0 for row in range(int(data[layer][\"size_in\"]))] for col in range(int(data[layer][\"size_out\"]))] \n",
    "        #empty matrix\n",
    "        \n",
    "        for index, node in enumerate(data[layer][\"weights\"]): # iterate over nodes in layer\n",
    "            for weight in data[layer][\"weights\"][node]: # iterate over weights in node\n",
    "                \n",
    "                matrix[int(weight) - 1][int(node) - 1] = float(data[layer][\"weights\"][node][weight])\n",
    "                # add weight to correct place in matrix\n",
    "            \n",
    "        matrices.append(matrix) # add matrix to all matrices\n",
    "    \n",
    "    return matrices"
   ]
  },
  {
   "cell_type": "markdown",
   "metadata": {},
   "source": [
    "Om het resultaat van het neurale netwerk te berekenen moet in een bepaalde volgorde de matrix multiplicatie uitgevoerd worden. De volgorde is $Laag2 \\cdot Laag1 \\cdot Laag0 \\cdot \\vec{input}$ Door deze volgorde aan te houden (en dus van de laatste naar de eerste matrix toe te werken) kunnen eerst alle matrices met elkaar vermenigvuldigd worden, om als laatst het resultaat met de input vector te vermenigvuldigen. Als de lagen van het begin naar het einde worden afgewerkt, moeten er telkens een $\\vec{tussenresultaat}$ met de volgende matrix vermenigvuldigd worden."
   ]
  },
  {
   "cell_type": "code",
   "execution_count": 89,
   "metadata": {},
   "outputs": [],
   "source": [
    "def ordered_matrix_multiplication(matrices, inputvector):\n",
    "    \n",
    "    if len(matrices) == 1: # if only 1 matrix in matrices:\n",
    "        productmatrix = dot_product(matrices[0], inputvector) # multiply this matrix with input network\n",
    "\n",
    "    else: # else iterate over reversed list matrices, while we know there must be more than 1 in matrices\n",
    "\n",
    "        matrices.reverse() # reverse matrices to do L2 * L1 * L0... instead of L0 * L1 * L2\n",
    "\n",
    "        for layer, matrix1 in enumerate(matrices):  # use layer as counting index\n",
    "\n",
    "            if layer == 0: # if index = 0 multiply first two matrices with each other (we know it must be 2)\n",
    "                productmatrix = dot_product(matrix1, matrices[layer + 1])\n",
    "\n",
    "            elif layer + 1 == len(matrices): # else if all matrices are multiplied, multiply last product with input\n",
    "                productmatrix = dot_product(productmatrix, inputvector) # perform dotproduct with productmatrix\n",
    "\n",
    "            else: # else multiply all matrices with each other starting with productmatrix\n",
    "                productmatrix = dot_product(productmatrix, matrices[layer + 1])\n",
    "\n",
    "    return [round(i[0], 2) for i in productmatrix] # rounded values in productmatrix on 2 decimals"
   ]
  },
  {
   "cell_type": "markdown",
   "metadata": {},
   "source": [
    "Als laatst worden de bestanden met lagen geopend en de functies gebruikt om:\n",
    "- lagen in matrices te laden met de functie: weights_to_matrices\n",
    "- matrices in de juiste volgorde te vermenigvuldigen met de functie: ordered_matrix_multiplication\n",
    "\n",
    "Deze functie zorgt ervoor dat aan alle situaties gedacht is, en dat de inputvector altijd met het laatste resultaat van matrix multiplicatie vermenigvuldigd wordt. Als laatst wordt dit resultaat geprint!"
   ]
  },
  {
   "cell_type": "code",
   "execution_count": 90,
   "metadata": {},
   "outputs": [
    {
     "name": "stdout",
     "output_type": "stream",
     "text": [
      "\n",
      "Output values 1 layer:\n",
      " [0.5, -0.3, 0.2, 0.5]\n",
      "\n",
      "Output values 2 layers:\n",
      " [0.62, 0.36]\n",
      "\n",
      "Output values 3 layers:\n",
      " [0.38]\n"
     ]
    }
   ],
   "source": [
    "# input vector\n",
    "inputvector = [[1] for col in range(int(data[\"layer1\"][\"size_in\"]))] # input for the neural network\n",
    "\n",
    "# 1 layer\n",
    "json_file = open(\"example-1layer.json\", \"r\") # open json file in reading mode\n",
    "data = json.load(json_file) # load json file in datastructure with json\n",
    "matrices = weights_to_matrices(data) # load weights from file into matrices, for each layer 1 matrix\n",
    "# will multiply matrices in reversed order. Last productmatrix will be multiplied with input vector\n",
    "lastproduct = ordered_matrix_multiplication(matrices, inputvector) # this function ensures correct order of matrix multiplication\n",
    "print(\"\\nOutput values 1 layer:\\n\", lastproduct) # print output\n",
    "\n",
    "# 2 layers\n",
    "json_file = open(\"example-2layer.json\", \"r\") # open json file in reading mode\n",
    "data = json.load(json_file) # load json file in datastructure with json\n",
    "matrices = weights_to_matrices(data) # load weights from file into matrices, for each layer 1 matrix\n",
    "# will multiply matrices in reversed order. Last productmatrix will be multiplied with input vector\n",
    "lastproduct = ordered_matrix_multiplication(matrices, inputvector) # this function ensures correct order of matrix multiplication\n",
    "print(\"\\nOutput values 2 layers:\\n\", lastproduct) # print output\n",
    "\n",
    "# 3 layers\n",
    "json_file = open(\"example-3layer.json\", \"r\") # open json file in reading mode\n",
    "data = json.load(json_file) # load json file in datastructure with json\n",
    "matrices = weights_to_matrices(data) # load weights from file into matrices, for each layer 1 matrix\n",
    "# will multiply matrices in reversed order. Last productmatrix will be multiplied with input vector\n",
    "lastproduct = ordered_matrix_multiplication(matrices, inputvector) # this function ensures correct order of matrix multiplication\n",
    "print(\"\\nOutput values 3 layers:\\n\", lastproduct) # print output"
   ]
  }
 ],
 "metadata": {
  "kernelspec": {
   "display_name": "Python 3",
   "language": "python",
   "name": "python3"
  },
  "language_info": {
   "codemirror_mode": {
    "name": "ipython",
    "version": 3
   },
   "file_extension": ".py",
   "mimetype": "text/x-python",
   "name": "python",
   "nbconvert_exporter": "python",
   "pygments_lexer": "ipython3",
   "version": "3.7.1"
  }
 },
 "nbformat": 4,
 "nbformat_minor": 2
}
