{
 "cells": [
  {
   "cell_type": "code",
   "execution_count": 104,
   "metadata": {},
   "outputs": [],
   "source": [
    "import json # use json to easily open json file\n",
    "import numpy as np # using numpy only for storing data in matrices"
   ]
  },
  {
   "cell_type": "code",
   "execution_count": 105,
   "metadata": {},
   "outputs": [],
   "source": [
    "# Function to perform matrix multiplication:\n",
    "def dot_product(matrix1, matrix2):\n",
    "    \n",
    "    # if columns of first are not equal to rows of second, matrix multiplication is not possible\n",
    "    if len(matrix1[0]) != len(matrix2): \n",
    "        print(\"Matrix multiplication is not possible because \"+ str(len(matrix1[0])) +' != '+str(len(matrix2) ))\n",
    "        return \n",
    "    \n",
    "    # create new empty productmatrix with size; amount of rows of first and columns of second\n",
    "    productmatrix = np.zeros([len(matrix1), len(matrix2[0])], dtype = float) \n",
    "    \n",
    "    for irow, row in enumerate(matrix1): # iterate over rows in matrix1\n",
    "        \n",
    "        for i in range(0, len(matrix2[0])): # iterate over number of columns in matrix2\n",
    "            som = 0\n",
    "        \n",
    "            for iweight, weight in enumerate(row): # iterate over weights in row (matrix1)\n",
    "                som += matrix1[irow][iweight] * matrix2[iweight][i] # add sum of muliplied weights to variable sum \n",
    "            \n",
    "            productmatrix[irow][i] = som # add sum to correct place in productmatrix\n",
    "            \n",
    "    return productmatrix"
   ]
  },
  {
   "cell_type": "markdown",
   "metadata": {},
   "source": [
    "__Load JSON file, create empty list for matrices and define input for network:__"
   ]
  },
  {
   "cell_type": "code",
   "execution_count": 106,
   "metadata": {},
   "outputs": [],
   "source": [
    "json_file = open(\"example-2layer.json\", \"r\") # open json file in reading mode\n",
    "data = json.load(json_file) # load json file in datastructure with json\n",
    "matrices = [] # empty list for all matrices\n",
    "matrixinput = np.matrix([[1]] * int(data[\"layer1\"][\"size_in\"])) # input for the neural network"
   ]
  },
  {
   "cell_type": "markdown",
   "metadata": {},
   "source": [
    "__For each layer, save weights as float in matrices:__"
   ]
  },
  {
   "cell_type": "code",
   "execution_count": 107,
   "metadata": {},
   "outputs": [],
   "source": [
    "for layer in data: # iterate over layers in json file\n",
    "    \n",
    "    matrix = np.zeros([int(data[layer][\"size_out\"]), int(data[layer][\"size_in\"])], dtype = float) # create empty matrix\n",
    "\n",
    "    for index, node in enumerate(data[layer][\"weights\"]): # iterate over nodes in layer\n",
    "\n",
    "        for weight in data[layer][\"weights\"][node]: # iterate over weights in node\n",
    "            \n",
    "            matrix[int(weight) - 1][int(node) - 1] = float(data[layer][\"weights\"][node][weight])\n",
    "            # add weight to correct place in matrix\n",
    "            \n",
    "    matrices.append(matrix) # add matrix to all matrices"
   ]
  },
  {
   "cell_type": "markdown",
   "metadata": {},
   "source": [
    "__Matrix multiplication__<br>\n",
    "Volgorde van layer (matrix) multiplicatie: Layer2 * Layer1 * Input; in plaats van: Input * Layer1 * Layer2.<br>"
   ]
  },
  {
   "cell_type": "code",
   "execution_count": 108,
   "metadata": {},
   "outputs": [],
   "source": [
    "if len(matrices) == 1: # if only 1 matrix in matrices:\n",
    "    productmatrix = dot_product(matrices[0], matrixinput) # multiply this matrix with input network\n",
    "    \n",
    "else: # else iterate over reversed list matrices, while we know there must be more than 1 in matrices\n",
    "    \n",
    "    matrices.reverse() # reverse matrices to do L2 * L1 * L0... instead of L0 * L1 * L2\n",
    "    \n",
    "    for layer, matrix1 in enumerate(matrices):  # use layer as counting index\n",
    "        \n",
    "        if layer == 0: # if index = 0 multiply first two matrices with each other (we know it must be 2)\n",
    "            productmatrix = dot_product(matrix1, matrices[layer + 1])\n",
    "            \n",
    "        elif layer + 1 == len(matrices): # else if all matrices are multiplied, multiply last product with input\n",
    "            productmatrix = dot_product(matrix1_1, matrixinput) # perform dotproduct with productmatrix as matrix1_1\n",
    "            \n",
    "        else: # else multiply all matrices with each other starting with productmatrix as matrix1_1\n",
    "            productmatrix = dot_product(matrix1_1, matrices[layer + 1])\n",
    "            \n",
    "        # for better readability assigning productmatrix to new variable instead of reusing variable productmatrix\n",
    "        matrix1_1 = productmatrix  "
   ]
  },
  {
   "cell_type": "markdown",
   "metadata": {},
   "source": [
    "__Print last productmatrix:__"
   ]
  },
  {
   "cell_type": "code",
   "execution_count": 109,
   "metadata": {},
   "outputs": [
    {
     "name": "stdout",
     "output_type": "stream",
     "text": [
      "Output values:\n",
      " [[0.62]\n",
      " [0.36]]\n"
     ]
    }
   ],
   "source": [
    "print(\"Output values:\\n\", productmatrix) # print output"
   ]
  }
 ],
 "metadata": {
  "kernelspec": {
   "display_name": "Python 3",
   "language": "python",
   "name": "python3"
  },
  "language_info": {
   "codemirror_mode": {
    "name": "ipython",
    "version": 3
   },
   "file_extension": ".py",
   "mimetype": "text/x-python",
   "name": "python",
   "nbconvert_exporter": "python",
   "pygments_lexer": "ipython3",
   "version": "3.7.1"
  }
 },
 "nbformat": 4,
 "nbformat_minor": 2
}
