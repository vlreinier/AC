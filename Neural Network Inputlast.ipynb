{
 "cells": [
  {
   "cell_type": "code",
   "execution_count": 38,
   "metadata": {},
   "outputs": [],
   "source": [
    "import json\n",
    "import numpy as np"
   ]
  },
  {
   "cell_type": "code",
   "execution_count": 39,
   "metadata": {},
   "outputs": [],
   "source": [
    "json_file = open(\"example-2layer.json\", \"r\") # open json file in reading mode\n",
    "data = json.load(json_file) # load json file in datastructure with json"
   ]
  },
  {
   "cell_type": "code",
   "execution_count": 40,
   "metadata": {},
   "outputs": [],
   "source": [
    "matrices = [] # empty list for all matrices\n",
    "for layer in data: # iterate over layers in json file\n",
    "    \n",
    "    matrix = np.zeros([int(data[layer][\"size_out\"]), int(data[layer][\"size_in\"])], dtype = float) # create empty matrix\n",
    "\n",
    "    for index, node in enumerate(data[layer][\"weights\"]): # iterate over nodes in layer\n",
    "\n",
    "        for weight in data[layer][\"weights\"][node]: # iterate over weights in node\n",
    "            \n",
    "            matrix[int(weight) - 1][int(node) - 1] = float(data[layer][\"weights\"][node][weight])\n",
    "            # add weight to correct place in matrix\n",
    "            \n",
    "    matrices.append(matrix) # add matrix to all matrices"
   ]
  },
  {
   "cell_type": "code",
   "execution_count": 41,
   "metadata": {},
   "outputs": [],
   "source": [
    "matrixinput = np.matrix([[1]] * int(data[\"layer1\"][\"size_in\"])) # input matrix for the neural network"
   ]
  },
  {
   "cell_type": "code",
   "execution_count": 42,
   "metadata": {},
   "outputs": [
    {
     "name": "stdout",
     "output_type": "stream",
     "text": [
      "Matrix 1:\n",
      "[[ 0.5  0.2 -0.1  0.9]\n",
      " [ 0.2 -0.5  0.3  0.1]]\n",
      "\n",
      "Matrix 2:\n",
      "[[ 0.5  0.2  0.   0.  -0.2]\n",
      " [ 0.2 -0.5 -0.1  0.9 -0.8]\n",
      " [ 0.   0.2  0.   0.1 -0.1]\n",
      " [ 0.1  0.8  0.3  0.  -0.7]]\n",
      "\n",
      "All matrices multiplied:\n",
      "[[ 0.38  0.7   0.25  0.17 -0.88]\n",
      " [ 0.01  0.43  0.08 -0.42  0.26]]\n",
      "Multiplied with input:\n",
      "[[1]\n",
      " [1]\n",
      " [1]\n",
      " [1]\n",
      " [1]]\n",
      "\n",
      "Output values:\n",
      " [[0.62]\n",
      " [0.36]]\n"
     ]
    }
   ],
   "source": [
    "for layer, matrix in enumerate(reversed(matrices)): # iterate over matrices\n",
    "    print(\"Matrix \"+str(layer + 1)+\":\\n\"+str(matrix)+'\\n') # print matrix\n",
    "    \n",
    "    if len(matrices) == 1:\n",
    "        matrixvar = matrixinput\n",
    "    if layer + 1 == len(matrices):\n",
    "        matrix = matrix_dot_result\n",
    "        matrixvar = matrixinput\n",
    "        print(\"All matrices multiplied:\\n\"+str(matrix)) # print matrix\n",
    "        print(\"Multiplied with input:\\n\"+str(matrixvar)+'\\n') # print matrix\n",
    "    else:\n",
    "        matrixvar = matrices[layer]\n",
    "\n",
    "    matrix_dot_result = np.zeros([len(matrix), len(matrixvar[0])], dtype = float) # create new empty matrix\n",
    "    \n",
    "    for irow, row in enumerate(matrix): # iterate over rows in matrix\n",
    "        \n",
    "        for i in range(0, len(matrixvar[0])): # iterate over number of columns in matrixvar\n",
    "            sum = 0\n",
    "        \n",
    "            for iweight, weight in enumerate(row): # iterate over weights in row\n",
    "                sum += matrix[irow][iweight] * matrixvar[iweight][i] # add sum of muliplied weights to variable sum \n",
    "            \n",
    "            matrix_dot_result[irow][i] = sum # add sum to correct place in newmatrix\n",
    "    \n",
    "print(\"Output values:\\n\", matrix_dot_result) # print output"
   ]
  }
 ],
 "metadata": {
  "kernelspec": {
   "display_name": "Python 3",
   "language": "python",
   "name": "python3"
  },
  "language_info": {
   "codemirror_mode": {
    "name": "ipython",
    "version": 3
   },
   "file_extension": ".py",
   "mimetype": "text/x-python",
   "name": "python",
   "nbconvert_exporter": "python",
   "pygments_lexer": "ipython3",
   "version": "3.7.1"
  }
 },
 "nbformat": 4,
 "nbformat_minor": 2
}
